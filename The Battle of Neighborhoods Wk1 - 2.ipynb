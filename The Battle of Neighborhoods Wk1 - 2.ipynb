{
    "cells": [
        {
            "cell_type": "markdown",
            "metadata": {
                "collapsed": true
            },
            "source": "# The Battle of Neighborhoods Week 1 Part 2"
        },
        {
            "cell_type": "markdown",
            "metadata": {},
            "source": "## *Data* :"
        },
        {
            "cell_type": "markdown",
            "metadata": {},
            "source": "City : **New York City**"
        },
        {
            "cell_type": "markdown",
            "metadata": {},
            "source": "We will be using the datasets below to analyse New York City."
        },
        {
            "cell_type": "markdown",
            "metadata": {},
            "source": "**Data 1** : <br> Neighborhood has a total of 5 boroughs and 306 neighborhoods. In order to segement the neighborhoods and explore them, we will essentially need a dataset that contains the 5 boroughs and the neighborhoods that exist in each borough as well as the the latitude and logitude coordinates of each neighborhood. <br>\n<br>\nThis dataset exists for free on the web. Link to the dataset is : https://geo.nyu.edu/catalog/nyu_2451_34572"
        },
        {
            "cell_type": "markdown",
            "metadata": {},
            "source": "**Data 2** : <br> Second data which will be used is the DOHMH Farmers Markets and Food Boxes dataset. In this we will be using the data of Farmers Markets. <br>\n<br>\nhttps://data.cityofnewyork.us/dataset/DOHMH-Farmers-Markets-and-Food-Boxes/8vwk-6iz2 <br>\n<br>\n*Website* - https://www.grownyc.org/greenmarketco/foodbox <br>\n<br>\nGrowNYC's **Fresh Food Box Program** is a food access initiative that enables under-served communities to purchase fresh, healthy, and primarily regionally grown produce well below traditional retail prices. <br>\n<br>\nA **farmer's market** is often defined as a public site used by two or more local or regional producers for the direct sale of farm products to consumers. In addition to fresh fruits and vegetables, markets may sell dairy products, fish, meat, baked goods, and other minimally processed foods."
        },
        {
            "cell_type": "markdown",
            "metadata": {},
            "source": "**Data 3** : <br> For the below analysis we will get data from wikipedia as given below : <br>\n<br>\n**New York Population <br> \nNew York City Demographics <br> \nCuisine of New York city** <br>\n<br>\nhttps://en.wikipedia.org/wiki/New_York_City <br>\nhttps://en.wikipedia.org/wiki/Economy_of_New_York_City <br> \nhttps://en.wikipedia.org/wiki/Portal:New_York_City  <br>\nhttps://en.wikipedia.org/wiki/Cuisine_of_New_York_City <br>\nhttps://en.wikipedia.org/wiki/List_of_Michelin_starred_restaurants_in_New_York_City"
        },
        {
            "cell_type": "markdown",
            "metadata": {},
            "source": "**Data 4** : <br>\nNewyork city geographical coordinates data will be utilized as input for the Foursquare API, that will be leveraged to provision venues information for each neighborhood.We will use the Foursquare API to explore neighborhoods in New York City. The below is image of the Foursquare API data."
        },
        {
            "cell_type": "markdown",
            "metadata": {},
            "source": "<img src=\"https://i.imgur.com/MOxxyoY.png\">"
        }
    ],
    "metadata": {
        "kernelspec": {
            "display_name": "Python 3.6",
            "language": "python",
            "name": "python3"
        },
        "language_info": {
            "codemirror_mode": {
                "name": "ipython",
                "version": 3
            },
            "file_extension": ".py",
            "mimetype": "text/x-python",
            "name": "python",
            "nbconvert_exporter": "python",
            "pygments_lexer": "ipython3",
            "version": "3.6.9"
        }
    },
    "nbformat": 4,
    "nbformat_minor": 1
}